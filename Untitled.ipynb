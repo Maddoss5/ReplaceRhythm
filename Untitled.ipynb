{
 "cells": [
  {
   "cell_type": "code",
   "execution_count": 1,
   "id": "45629e28",
   "metadata": {},
   "outputs": [],
   "source": [
    "import discord\n"
   ]
  },
  {
   "cell_type": "code",
   "execution_count": 17,
   "id": "f7423db8",
   "metadata": {},
   "outputs": [],
   "source": [
    "from discord.ext import commands"
   ]
  },
  {
   "cell_type": "code",
   "execution_count": 19,
   "id": "784317d7",
   "metadata": {},
   "outputs": [],
   "source": [
    "client = discord.Client(intents=discord.Intents.default())"
   ]
  },
  {
   "cell_type": "code",
   "execution_count": 2,
   "id": "71c348f8",
   "metadata": {},
   "outputs": [],
   "source": [
    "with open('token.txt') as f:\n",
    "    lines = f.readlines()"
   ]
  },
  {
   "cell_type": "code",
   "execution_count": 4,
   "id": "50288468",
   "metadata": {},
   "outputs": [],
   "source": [
    "toke=lines"
   ]
  },
  {
   "cell_type": "code",
   "execution_count": 10,
   "id": "ef11a19e",
   "metadata": {},
   "outputs": [],
   "source": [
    "for i in range(len(toke)):\n",
    "    s1=toke[i]"
   ]
  },
  {
   "cell_type": "code",
   "execution_count": 12,
   "id": "61485f33",
   "metadata": {},
   "outputs": [
    {
     "data": {
      "text/plain": [
       "str"
      ]
     },
     "execution_count": 12,
     "metadata": {},
     "output_type": "execute_result"
    }
   ],
   "source": [
    "type(s1)"
   ]
  },
  {
   "cell_type": "code",
   "execution_count": 21,
   "id": "822877d9",
   "metadata": {},
   "outputs": [
    {
     "ename": "RuntimeError",
     "evalue": "asyncio.run() cannot be called from a running event loop",
     "output_type": "error",
     "traceback": [
      "\u001b[1;31m---------------------------------------------------------------------------\u001b[0m",
      "\u001b[1;31mRuntimeError\u001b[0m                              Traceback (most recent call last)",
      "Input \u001b[1;32mIn [21]\u001b[0m, in \u001b[0;36m<cell line: 1>\u001b[1;34m()\u001b[0m\n\u001b[1;32m----> 1\u001b[0m \u001b[43mclient\u001b[49m\u001b[38;5;241;43m.\u001b[39;49m\u001b[43mrun\u001b[49m\u001b[43m(\u001b[49m\u001b[38;5;124;43m\"\u001b[39;49m\u001b[38;5;124;43mMTAxMDg4NTcwMzExNjI2NzU2MA.G5-pRD.FZAvgfyZYygXJ9A_WYfr_crHBMaAe8wsnWog4s\u001b[39;49m\u001b[38;5;124;43m\"\u001b[39;49m\u001b[43m)\u001b[49m\n",
      "File \u001b[1;32m~\\AppData\\Local\\Packages\\PythonSoftwareFoundation.Python.3.10_qbz5n2kfra8p0\\LocalCache\\local-packages\\Python310\\site-packages\\discord\\client.py:828\u001b[0m, in \u001b[0;36mClient.run\u001b[1;34m(self, token, reconnect, log_handler, log_formatter, log_level, root_logger)\u001b[0m\n\u001b[0;32m    820\u001b[0m     utils\u001b[38;5;241m.\u001b[39msetup_logging(\n\u001b[0;32m    821\u001b[0m         handler\u001b[38;5;241m=\u001b[39mlog_handler,\n\u001b[0;32m    822\u001b[0m         formatter\u001b[38;5;241m=\u001b[39mlog_formatter,\n\u001b[0;32m    823\u001b[0m         level\u001b[38;5;241m=\u001b[39mlog_level,\n\u001b[0;32m    824\u001b[0m         root\u001b[38;5;241m=\u001b[39mroot_logger,\n\u001b[0;32m    825\u001b[0m     )\n\u001b[0;32m    827\u001b[0m \u001b[38;5;28;01mtry\u001b[39;00m:\n\u001b[1;32m--> 828\u001b[0m     \u001b[43masyncio\u001b[49m\u001b[38;5;241;43m.\u001b[39;49m\u001b[43mrun\u001b[49m\u001b[43m(\u001b[49m\u001b[43mrunner\u001b[49m\u001b[43m(\u001b[49m\u001b[43m)\u001b[49m\u001b[43m)\u001b[49m\n\u001b[0;32m    829\u001b[0m \u001b[38;5;28;01mexcept\u001b[39;00m \u001b[38;5;167;01mKeyboardInterrupt\u001b[39;00m:\n\u001b[0;32m    830\u001b[0m     \u001b[38;5;66;03m# nothing to do here\u001b[39;00m\n\u001b[0;32m    831\u001b[0m     \u001b[38;5;66;03m# `asyncio.run` handles the loop cleanup\u001b[39;00m\n\u001b[0;32m    832\u001b[0m     \u001b[38;5;66;03m# and `self.start` closes all sockets and the HTTPClient instance.\u001b[39;00m\n\u001b[0;32m    833\u001b[0m     \u001b[38;5;28;01mreturn\u001b[39;00m\n",
      "File \u001b[1;32mC:\\Program Files\\WindowsApps\\PythonSoftwareFoundation.Python.3.10_3.10.1776.0_x64__qbz5n2kfra8p0\\lib\\asyncio\\runners.py:33\u001b[0m, in \u001b[0;36mrun\u001b[1;34m(main, debug)\u001b[0m\n\u001b[0;32m      9\u001b[0m \u001b[38;5;124;03m\"\"\"Execute the coroutine and return the result.\u001b[39;00m\n\u001b[0;32m     10\u001b[0m \n\u001b[0;32m     11\u001b[0m \u001b[38;5;124;03mThis function runs the passed coroutine, taking care of\u001b[39;00m\n\u001b[1;32m   (...)\u001b[0m\n\u001b[0;32m     30\u001b[0m \u001b[38;5;124;03m    asyncio.run(main())\u001b[39;00m\n\u001b[0;32m     31\u001b[0m \u001b[38;5;124;03m\"\"\"\u001b[39;00m\n\u001b[0;32m     32\u001b[0m \u001b[38;5;28;01mif\u001b[39;00m events\u001b[38;5;241m.\u001b[39m_get_running_loop() \u001b[38;5;129;01mis\u001b[39;00m \u001b[38;5;129;01mnot\u001b[39;00m \u001b[38;5;28;01mNone\u001b[39;00m:\n\u001b[1;32m---> 33\u001b[0m     \u001b[38;5;28;01mraise\u001b[39;00m \u001b[38;5;167;01mRuntimeError\u001b[39;00m(\n\u001b[0;32m     34\u001b[0m         \u001b[38;5;124m\"\u001b[39m\u001b[38;5;124masyncio.run() cannot be called from a running event loop\u001b[39m\u001b[38;5;124m\"\u001b[39m)\n\u001b[0;32m     36\u001b[0m \u001b[38;5;28;01mif\u001b[39;00m \u001b[38;5;129;01mnot\u001b[39;00m coroutines\u001b[38;5;241m.\u001b[39miscoroutine(main):\n\u001b[0;32m     37\u001b[0m     \u001b[38;5;28;01mraise\u001b[39;00m \u001b[38;5;167;01mValueError\u001b[39;00m(\u001b[38;5;124m\"\u001b[39m\u001b[38;5;124ma coroutine was expected, got \u001b[39m\u001b[38;5;132;01m{!r}\u001b[39;00m\u001b[38;5;124m\"\u001b[39m\u001b[38;5;241m.\u001b[39mformat(main))\n",
      "\u001b[1;31mRuntimeError\u001b[0m: asyncio.run() cannot be called from a running event loop"
     ]
    }
   ],
   "source": [
    "client.run(\"MTAxMDg4NTcwMzExNjI2NzU2MA.G5-pRD.FZAvgfyZYygXJ9A_WYfr_crHBMaAe8wsnWog4s\")"
   ]
  },
  {
   "cell_type": "code",
   "execution_count": null,
   "id": "0be2c959",
   "metadata": {},
   "outputs": [],
   "source": []
  }
 ],
 "metadata": {
  "kernelspec": {
   "display_name": "Python 3 (ipykernel)",
   "language": "python",
   "name": "python3"
  },
  "language_info": {
   "codemirror_mode": {
    "name": "ipython",
    "version": 3
   },
   "file_extension": ".py",
   "mimetype": "text/x-python",
   "name": "python",
   "nbconvert_exporter": "python",
   "pygments_lexer": "ipython3",
   "version": "3.10.6"
  }
 },
 "nbformat": 4,
 "nbformat_minor": 5
}
